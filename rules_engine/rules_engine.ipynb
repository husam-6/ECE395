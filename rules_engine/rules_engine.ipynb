{
 "cells": [
  {
   "cell_type": "code",
   "execution_count": null,
   "metadata": {},
   "outputs": [],
   "source": [
    "# %% Libraries\n",
    "\n",
    "import chess\n",
    "import chess.svg\n",
    "from IPython.display import SVG, clear_output\n",
    "\n",
    "board = chess.Board()"
   ]
  },
  {
   "cell_type": "code",
   "execution_count": null,
   "metadata": {},
   "outputs": [],
   "source": [
    "is_white = True\n",
    "invalid = False\n",
    "while not board.is_checkmate():\n",
    "    \n",
    "    # moves = board.legal_moves\n",
    "    s = str(board.legal_moves)\n",
    "    s = s[s.find(\"(\")+1:s.find(\")\")]\n",
    "    try:\n",
    "        clear_output(wait=True)\n",
    "        if is_white:\n",
    "            print(\"White's move: \\n\")\n",
    "        else:\n",
    "            print(\"Black's move: \\n\")\n",
    "        image = chess.svg.board(\n",
    "            board,\n",
    "            size=350,\n",
    "        )\n",
    "        if invalid:\n",
    "            print(\"Enter a valid move...\")\n",
    "        display(SVG(image))\n",
    "        print(\"\\n\" + s + \"\\n\")\n",
    "        move = input(\"Enter a move: \")\n",
    "        board.push_san(move)\n",
    "    except ValueError:\n",
    "        invalid = True\n",
    "        continue\n",
    "        \n",
    "\n",
    "    is_white = not is_white\n",
    "    invalid = False\n",
    "\n",
    "color = \"White\"\n",
    "if is_white:\n",
    "    color = \"Black\"\n",
    "\n",
    "image = chess.svg.board(board,size=350,)\n",
    "display(SVG(image))\n",
    "print(f\"\\nCheckmate, {color} wins!\")\n"
   ]
  }
 ],
 "metadata": {
  "kernelspec": {
   "display_name": "Python 3.10.6 64-bit ('3.10.6')",
   "language": "python",
   "name": "python3"
  },
  "language_info": {
   "codemirror_mode": {
    "name": "ipython",
    "version": 3
   },
   "file_extension": ".py",
   "mimetype": "text/x-python",
   "name": "python",
   "nbconvert_exporter": "python",
   "pygments_lexer": "ipython3",
   "version": "3.10.6"
  },
  "orig_nbformat": 4,
  "vscode": {
   "interpreter": {
    "hash": "3280930371954914724c2a4ef1f8b2f9850cb1b69c4537e14895671e469d3a91"
   }
  }
 },
 "nbformat": 4,
 "nbformat_minor": 2
}
